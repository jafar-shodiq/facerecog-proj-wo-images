{
 "cells": [
  {
   "cell_type": "code",
   "execution_count": 4,
   "metadata": {},
   "outputs": [],
   "source": [
    "import requests\n",
    "import hashlib\n",
    "import time\n",
    "import io\n",
    "import os\n",
    "\n",
    "from bs4 import BeautifulSoup\n",
    "from PIL import Image\n",
    "from selenium import webdriver"
   ]
  },
  {
   "cell_type": "code",
   "execution_count": 5,
   "metadata": {},
   "outputs": [],
   "source": [
    "def fetch_image_urls(query:str, max_links_to_fetch:int, wd:webdriver, sleep_between_interactions:int=1):\n",
    "    def scroll_to_end(wd):\n",
    "        wd.execute_script('window.scrollTo(0, document.body.scrollHeight);')\n",
    "        time.sleep(sleep_between_interactions)\n",
    "        \n",
    "    # Build te google query\n",
    "    search_url = 'https://www.google.com/search?safe=off&site=&tbm=isch&source=hp&q={q}&oq={q}&gs_l=img'\n",
    "    \n",
    "    # Load the page\n",
    "    wd.get(search_url.format(q=query))\n",
    "    \n",
    "    image_urls = set()\n",
    "    image_count = 0\n",
    "    results_start = 0\n",
    "    while image_count < max_links_to_fetch:\n",
    "        scroll_to_end(wd)\n",
    "        \n",
    "        # Get all image thumbnail results\n",
    "        thumbnail_results = wd.find_elements_by_css_selector('img.Q4LuWd')\n",
    "        number_results = len(thumbnail_results)\n",
    "        \n",
    "        print(f'Found: {number_results} search results. Extracting links from {results_start}:{number_results}')\n",
    "        \n",
    "        for img in thumbnail_results[results_start:number_results]:\n",
    "            # Try to click every thumbnail such that we can get the real image behind it\n",
    "            try:\n",
    "                img.click()\n",
    "                time.sleep(sleep_between_interactions)\n",
    "            except Exception:\n",
    "                continue\n",
    "                \n",
    "            # Extract image urls\n",
    "            actual_images = wd.find_elements_by_css_selector('img.n3VNCb')\n",
    "            for actual_image in actual_images:\n",
    "                if actual_image.get_attribute('src') and 'http' in actual_image.get_attribute('src'):\n",
    "                    image_urls.add(actual_image.get_attribute('src'))\n",
    "                    \n",
    "            image_count = len(image_urls)\n",
    "            \n",
    "            if len(image_urls) >= max_links_to_fetch:\n",
    "                print(f'Found: {len(image_urls)} image links, done!')\n",
    "                break\n",
    "            \n",
    "        else:\n",
    "            print('Found:', len(image_urls), 'image links, looking for more ...')\n",
    "            time.sleep(30)\n",
    "            \n",
    "            load_more_button = wd.find_element_by_css_selector('.mye4qd')\n",
    "            if load_more_button:\n",
    "                wd.execute_script(\"document.querySelector('.mye4qd').click();\")\n",
    "        \n",
    "        # Move the result startpoint further down\n",
    "        results_start = len(thumbnail_results)\n",
    "    \n",
    "    return image_urls"
   ]
  },
  {
   "cell_type": "code",
   "execution_count": 6,
   "metadata": {},
   "outputs": [],
   "source": [
    "def persist_image(folder_path:str, url:str):\n",
    "    try:\n",
    "        image_content = requests.get(url).content\n",
    "        \n",
    "    except Exception as e:\n",
    "        print(f'ERROR - Could not download {url} - {e}')\n",
    "        \n",
    "    \n",
    "    try:\n",
    "        image_file = io.BytesIO(image_content)\n",
    "        image = Image.open(image_file).convert('RGB')\n",
    "        file_path = os.path.join(folder_path, hashlib.sha1(image_content).hexdigest()[:10] + '.jpg')\n",
    "        \n",
    "        with open(file_path, 'wb') as f:\n",
    "            image.save(f, 'JPEG', quality=85)\n",
    "        \n",
    "        print(f'SUCCESS - saved {url} - as {file_path}')\n",
    "    \n",
    "    except Exception as e:\n",
    "        print(f'ERROR - Could not save {url} - {e}')"
   ]
  },
  {
   "cell_type": "code",
   "execution_count": 7,
   "metadata": {},
   "outputs": [],
   "source": [
    "def search_and_download(search_term:str, driver_path:str, target_path:str, number_images:int):\n",
    "    target_folder = os.path.join(target_path, '_'.join(search_term.lower().split(' ')))\n",
    "    \n",
    "    if not os.path.exists(target_folder):\n",
    "        os.makedirs(target_folder)\n",
    "        \n",
    "    with webdriver.Chrome(executable_path=driver_path) as wd:\n",
    "        res = fetch_image_urls(search_term, number_images, wd=wd, sleep_between_interactions=0.5)\n",
    "        \n",
    "    for elem in res:\n",
    "        persist_image(target_folder, elem)"
   ]
  },
  {
   "cell_type": "code",
   "execution_count": 8,
   "metadata": {},
   "outputs": [
    {
     "name": "stdout",
     "output_type": "stream",
     "text": [
      "Found: 100 search results. Extracting links from 0:100\n",
      "Found: 5 image links, done!\n",
      "SUCCESS - saved https://a0.muscache.com/pictures/lombard/MtTemplate-989763-media_library/original/45c28eeb-0380-4dff-8731-f560bbd09a4b.jpeg - as ./images\\goat\\f03dceda7f.jpg\n",
      "SUCCESS - saved https://static.wikia.nocookie.net/jurassicworld-evolution/images/2/28/648350_screenshots_20190711103904_1.jpg/revision/latest/top-crop/width/360/height/450?cb=20200526042521 - as ./images\\goat\\046257d561.jpg\n",
      "SUCCESS - saved https://images2.minutemediacdn.com/image/upload/c_crop,h_843,w_1500,x_0,y_10/v1555172614/shape/mentalfloss/iStock-177369626_1.jpg?itok=YfyNMOBR - as ./images\\goat\\a7217c52b2.jpg\n",
      "SUCCESS - saved https://upload.wikimedia.org/wikipedia/commons/thumb/b/b2/Hausziege_04.jpg/1200px-Hausziege_04.jpg - as ./images\\goat\\e17fdad6c6.jpg\n",
      "SUCCESS - saved https://i.guim.co.uk/img/media/583b1b167c0b51719de576054d524326e577b21f/0_206_4488_2693/master/4488.jpg?width=1200&height=1200&quality=85&auto=format&fit=crop&s=ba906790f1765ad66555e0b5f7ffeac7 - as ./images\\goat\\44ac9807a8.jpg\n"
     ]
    }
   ],
   "source": [
    "driver_path = 'chromedriver'\n",
    "\n",
    "search_term = 'goat'\n",
    "number_images = 5\n",
    "target_path = './images'\n",
    "\n",
    "search_and_download(search_term, driver_path, target_path, number_images)"
   ]
  },
  {
   "cell_type": "code",
   "execution_count": null,
   "metadata": {},
   "outputs": [],
   "source": []
  }
 ],
 "metadata": {
  "kernelspec": {
   "display_name": "Python 3",
   "language": "python",
   "name": "python3"
  },
  "language_info": {
   "codemirror_mode": {
    "name": "ipython",
    "version": 3
   },
   "file_extension": ".py",
   "mimetype": "text/x-python",
   "name": "python",
   "nbconvert_exporter": "python",
   "pygments_lexer": "ipython3",
   "version": "3.8.5"
  }
 },
 "nbformat": 4,
 "nbformat_minor": 4
}
